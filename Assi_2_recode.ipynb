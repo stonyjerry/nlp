{
 "cells": [
  {
   "cell_type": "code",
   "execution_count": null,
   "metadata": {
    "collapsed": true
   },
   "outputs": [],
   "source": [
    "### Re-code the house price machine learning"
   ]
  },
  {
   "cell_type": "code",
   "execution_count": null,
   "metadata": {
    "collapsed": true
   },
   "outputs": [],
   "source": [
    "### 1. Random Choose Method to get optimal k and b"
   ]
  },
  {
   "cell_type": "code",
   "execution_count": 3,
   "metadata": {
    "collapsed": true
   },
   "outputs": [],
   "source": [
    "from sklearn.datasets import load_boston"
   ]
  },
  {
   "cell_type": "code",
   "execution_count": 4,
   "metadata": {},
   "outputs": [],
   "source": [
    "data = load_boston()"
   ]
  },
  {
   "cell_type": "code",
   "execution_count": 9,
   "metadata": {
    "collapsed": true
   },
   "outputs": [],
   "source": [
    "x, y = data['data'], data['target']\n"
   ]
  },
  {
   "cell_type": "code",
   "execution_count": 10,
   "metadata": {},
   "outputs": [
    {
     "data": {
      "text/plain": [
       "array([  2.73100000e-02,   0.00000000e+00,   7.07000000e+00,\n",
       "         0.00000000e+00,   4.69000000e-01,   6.42100000e+00,\n",
       "         7.89000000e+01,   4.96710000e+00,   2.00000000e+00,\n",
       "         2.42000000e+02,   1.78000000e+01,   3.96900000e+02,\n",
       "         9.14000000e+00])"
      ]
     },
     "execution_count": 10,
     "metadata": {},
     "output_type": "execute_result"
    }
   ],
   "source": [
    "x[1]"
   ]
  },
  {
   "cell_type": "code",
   "execution_count": 11,
   "metadata": {},
   "outputs": [
    {
     "data": {
      "text/plain": [
       "21.600000000000001"
      ]
     },
     "execution_count": 11,
     "metadata": {},
     "output_type": "execute_result"
    }
   ],
   "source": [
    "y[1]"
   ]
  },
  {
   "cell_type": "code",
   "execution_count": 13,
   "metadata": {},
   "outputs": [
    {
     "data": {
      "text/plain": [
       "506"
      ]
     },
     "execution_count": 13,
     "metadata": {},
     "output_type": "execute_result"
    }
   ],
   "source": [
    "len(x[:,0])"
   ]
  },
  {
   "cell_type": "code",
   "execution_count": 14,
   "metadata": {},
   "outputs": [
    {
     "data": {
      "text/plain": [
       "506"
      ]
     },
     "execution_count": 14,
     "metadata": {},
     "output_type": "execute_result"
    }
   ],
   "source": [
    "len(y)"
   ]
  },
  {
   "cell_type": "code",
   "execution_count": 19,
   "metadata": {
    "collapsed": true
   },
   "outputs": [],
   "source": [
    "%matplotlib inline"
   ]
  },
  {
   "cell_type": "code",
   "execution_count": 17,
   "metadata": {
    "collapsed": true
   },
   "outputs": [],
   "source": [
    "import matplotlib.pyplot as plt"
   ]
  },
  {
   "cell_type": "code",
   "execution_count": 18,
   "metadata": {
    "collapsed": true
   },
   "outputs": [],
   "source": [
    "def draw_rm_and_price():\n",
    "    plt.scatter(x[:,5],y)"
   ]
  },
  {
   "cell_type": "code",
   "execution_count": 20,
   "metadata": {},
   "outputs": [
    {
     "data": {
      "image/png": "[encoded data removed]",
      "text/plain": [
       "<matplotlib.figure.Figure at 0x106fe2c50>"
      ]
     },
     "metadata": {},
     "output_type": "display_data"
    }
   ],
   "source": [
    "draw_rm_and_price()"
   ]
  },
  {
   "cell_type": "code",
   "execution_count": 23,
   "metadata": {
    "collapsed": true
   },
   "outputs": [],
   "source": [
    "import random"
   ]
  },
  {
   "cell_type": "code",
   "execution_count": 24,
   "metadata": {
    "collapsed": true
   },
   "outputs": [],
   "source": [
    "def price(rm, k, b):\n",
    "    '''f(x) = k * k + b'''\n",
    "    return k * rm + b"
   ]
  },
  {
   "cell_type": "code",
   "execution_count": 25,
   "metadata": {},
   "outputs": [
    {
     "data": {
      "text/plain": [
       "<matplotlib.collections.PathCollection at 0x10f6a5320>"
      ]
     },
     "execution_count": 25,
     "metadata": {},
     "output_type": "execute_result"
    },
    {
     "data": {
      "image/png": "[encoded data removed]",
      "text/plain": [
       "<matplotlib.figure.Figure at 0x103e507b8>"
      ]
     },
     "metadata": {},
     "output_type": "display_data"
    }
   ],
   "source": [
    "x_rm = x[:, 5]\n",
    "k = random.randint(-100, 100)\n",
    "b = random.randint(-100, 100)\n",
    "price_by_random_k_and_b = [price(r, k, b) for r in x_rm]\n",
    "\n",
    "draw_rm_and_price()\n",
    "plt.scatter(x_rm, price_by_random_k_and_b)\n"
   ]
  },
  {
   "cell_type": "code",
   "execution_count": 26,
   "metadata": {},
   "outputs": [
    {
     "data": {
      "text/plain": [
       "[24.0,\n",
       " 21.600000000000001,\n",
       " 34.700000000000003,\n",
       " 33.399999999999999,\n",
       " 36.200000000000003,\n",
       " 28.699999999999999,\n",
       " 22.899999999999999,\n",
       " 27.100000000000001,\n",
       " 16.5,\n",
       " 18.899999999999999,\n",
       " 15.0,\n",
       " 18.899999999999999,\n",
       " 21.699999999999999,\n",
       " 20.399999999999999,\n",
       " 18.199999999999999,\n",
       " 19.899999999999999,\n",
       " 23.100000000000001,\n",
       " 17.5,\n",
       " 20.199999999999999,\n",
       " 18.199999999999999,\n",
       " 13.6,\n",
       " 19.600000000000001,\n",
       " 15.199999999999999,\n",
       " 14.5,\n",
       " 15.6,\n",
       " 13.9,\n",
       " 16.600000000000001,\n",
       " 14.800000000000001,\n",
       " 18.399999999999999,\n",
       " 21.0,\n",
       " 12.699999999999999,\n",
       " 14.5,\n",
       " 13.199999999999999,\n",
       " 13.1,\n",
       " 13.5,\n",
       " 18.899999999999999,\n",
       " 20.0,\n",
       " 21.0,\n",
       " 24.699999999999999,\n",
       " 30.800000000000001,\n",
       " 34.899999999999999,\n",
       " 26.600000000000001,\n",
       " 25.300000000000001,\n",
       " 24.699999999999999,\n",
       " 21.199999999999999,\n",
       " 19.300000000000001,\n",
       " 20.0,\n",
       " 16.600000000000001,\n",
       " 14.4,\n",
       " 19.399999999999999,\n",
       " 19.699999999999999,\n",
       " 20.5,\n",
       " 25.0,\n",
       " 23.399999999999999,\n",
       " 18.899999999999999,\n",
       " 35.399999999999999,\n",
       " 24.699999999999999,\n",
       " 31.600000000000001,\n",
       " 23.300000000000001,\n",
       " 19.600000000000001,\n",
       " 18.699999999999999,\n",
       " 16.0,\n",
       " 22.199999999999999,\n",
       " 25.0,\n",
       " 33.0,\n",
       " 23.5,\n",
       " 19.399999999999999,\n",
       " 22.0,\n",
       " 17.399999999999999,\n",
       " 20.899999999999999,\n",
       " 24.199999999999999,\n",
       " 21.699999999999999,\n",
       " 22.800000000000001,\n",
       " 23.399999999999999,\n",
       " 24.100000000000001,\n",
       " 21.399999999999999,\n",
       " 20.0,\n",
       " 20.800000000000001,\n",
       " 21.199999999999999,\n",
       " 20.300000000000001,\n",
       " 28.0,\n",
       " 23.899999999999999,\n",
       " 24.800000000000001,\n",
       " 22.899999999999999,\n",
       " 23.899999999999999,\n",
       " 26.600000000000001,\n",
       " 22.5,\n",
       " 22.199999999999999,\n",
       " 23.600000000000001,\n",
       " 28.699999999999999,\n",
       " 22.600000000000001,\n",
       " 22.0,\n",
       " 22.899999999999999,\n",
       " 25.0,\n",
       " 20.600000000000001,\n",
       " 28.399999999999999,\n",
       " 21.399999999999999,\n",
       " 38.700000000000003,\n",
       " 43.799999999999997,\n",
       " 33.200000000000003,\n",
       " 27.5,\n",
       " 26.5,\n",
       " 18.600000000000001,\n",
       " 19.300000000000001,\n",
       " 20.100000000000001,\n",
       " 19.5,\n",
       " 19.5,\n",
       " 20.399999999999999,\n",
       " 19.800000000000001,\n",
       " 19.399999999999999,\n",
       " 21.699999999999999,\n",
       " 22.800000000000001,\n",
       " 18.800000000000001,\n",
       " 18.699999999999999,\n",
       " 18.5,\n",
       " 18.300000000000001,\n",
       " 21.199999999999999,\n",
       " 19.199999999999999,\n",
       " 20.399999999999999,\n",
       " 19.300000000000001,\n",
       " 22.0,\n",
       " 20.300000000000001,\n",
       " 20.5,\n",
       " 17.300000000000001,\n",
       " 18.800000000000001,\n",
       " 21.399999999999999,\n",
       " 15.699999999999999,\n",
       " 16.199999999999999,\n",
       " 18.0,\n",
       " 14.300000000000001,\n",
       " 19.199999999999999,\n",
       " 19.600000000000001,\n",
       " 23.0,\n",
       " 18.399999999999999,\n",
       " 15.6,\n",
       " 18.100000000000001,\n",
       " 17.399999999999999,\n",
       " 17.100000000000001,\n",
       " 13.300000000000001,\n",
       " 17.800000000000001,\n",
       " 14.0,\n",
       " 14.4,\n",
       " 13.4,\n",
       " 15.6,\n",
       " 11.800000000000001,\n",
       " 13.800000000000001,\n",
       " 15.6,\n",
       " 14.6,\n",
       " 17.800000000000001,\n",
       " 15.4,\n",
       " 21.5,\n",
       " 19.600000000000001,\n",
       " 15.300000000000001,\n",
       " 19.399999999999999,\n",
       " 17.0,\n",
       " 15.6,\n",
       " 13.1,\n",
       " 41.299999999999997,\n",
       " 24.300000000000001,\n",
       " 23.300000000000001,\n",
       " 27.0,\n",
       " 50.0,\n",
       " 50.0,\n",
       " 50.0,\n",
       " 22.699999999999999,\n",
       " 25.0,\n",
       " 50.0,\n",
       " 23.800000000000001,\n",
       " 23.800000000000001,\n",
       " 22.300000000000001,\n",
       " 17.399999999999999,\n",
       " 19.100000000000001,\n",
       " 23.100000000000001,\n",
       " 23.600000000000001,\n",
       " 22.600000000000001,\n",
       " 29.399999999999999,\n",
       " 23.199999999999999,\n",
       " 24.600000000000001,\n",
       " 29.899999999999999,\n",
       " 37.200000000000003,\n",
       " 39.799999999999997,\n",
       " 36.200000000000003,\n",
       " 37.899999999999999,\n",
       " 32.5,\n",
       " 26.399999999999999,\n",
       " 29.600000000000001,\n",
       " 50.0,\n",
       " 32.0,\n",
       " 29.800000000000001,\n",
       " 34.899999999999999,\n",
       " 37.0,\n",
       " 30.5,\n",
       " 36.399999999999999,\n",
       " 31.100000000000001,\n",
       " 29.100000000000001,\n",
       " 50.0,\n",
       " 33.299999999999997,\n",
       " 30.300000000000001,\n",
       " 34.600000000000001,\n",
       " 34.899999999999999,\n",
       " 32.899999999999999,\n",
       " 24.100000000000001,\n",
       " 42.299999999999997,\n",
       " 48.5,\n",
       " 50.0,\n",
       " 22.600000000000001,\n",
       " 24.399999999999999,\n",
       " 22.5,\n",
       " 24.399999999999999,\n",
       " 20.0,\n",
       " 21.699999999999999,\n",
       " 19.300000000000001,\n",
       " 22.399999999999999,\n",
       " 28.100000000000001,\n",
       " 23.699999999999999,\n",
       " 25.0,\n",
       " 23.300000000000001,\n",
       " 28.699999999999999,\n",
       " 21.5,\n",
       " 23.0,\n",
       " 26.699999999999999,\n",
       " 21.699999999999999,\n",
       " 27.5,\n",
       " 30.100000000000001,\n",
       " 44.799999999999997,\n",
       " 50.0,\n",
       " 37.600000000000001,\n",
       " 31.600000000000001,\n",
       " 46.700000000000003,\n",
       " 31.5,\n",
       " 24.300000000000001,\n",
       " 31.699999999999999,\n",
       " 41.700000000000003,\n",
       " 48.299999999999997,\n",
       " 29.0,\n",
       " 24.0,\n",
       " 25.100000000000001,\n",
       " 31.5,\n",
       " 23.699999999999999,\n",
       " 23.300000000000001,\n",
       " 22.0,\n",
       " 20.100000000000001,\n",
       " 22.199999999999999,\n",
       " 23.699999999999999,\n",
       " 17.600000000000001,\n",
       " 18.5,\n",
       " 24.300000000000001,\n",
       " 20.5,\n",
       " 24.5,\n",
       " 26.199999999999999,\n",
       " 24.399999999999999,\n",
       " 24.800000000000001,\n",
       " 29.600000000000001,\n",
       " 42.799999999999997,\n",
       " 21.899999999999999,\n",
       " 20.899999999999999,\n",
       " 44.0,\n",
       " 50.0,\n",
       " 36.0,\n",
       " 30.100000000000001,\n",
       " 33.799999999999997,\n",
       " 43.100000000000001,\n",
       " 48.799999999999997,\n",
       " 31.0,\n",
       " 36.5,\n",
       " 22.800000000000001,\n",
       " 30.699999999999999,\n",
       " 50.0,\n",
       " 43.5,\n",
       " 20.699999999999999,\n",
       " 21.100000000000001,\n",
       " 25.199999999999999,\n",
       " 24.399999999999999,\n",
       " 35.200000000000003,\n",
       " 32.399999999999999,\n",
       " 32.0,\n",
       " 33.200000000000003,\n",
       " 33.100000000000001,\n",
       " 29.100000000000001,\n",
       " 35.100000000000001,\n",
       " 45.399999999999999,\n",
       " 35.399999999999999,\n",
       " 46.0,\n",
       " 50.0,\n",
       " 32.200000000000003,\n",
       " 22.0,\n",
       " 20.100000000000001,\n",
       " 23.199999999999999,\n",
       " 22.300000000000001,\n",
       " 24.800000000000001,\n",
       " 28.5,\n",
       " 37.299999999999997,\n",
       " 27.899999999999999,\n",
       " 23.899999999999999,\n",
       " 21.699999999999999,\n",
       " 28.600000000000001,\n",
       " 27.100000000000001,\n",
       " 20.300000000000001,\n",
       " 22.5,\n",
       " 29.0,\n",
       " 24.800000000000001,\n",
       " 22.0,\n",
       " 26.399999999999999,\n",
       " 33.100000000000001,\n",
       " 36.100000000000001,\n",
       " 28.399999999999999,\n",
       " 33.399999999999999,\n",
       " 28.199999999999999,\n",
       " 22.800000000000001,\n",
       " 20.300000000000001,\n",
       " 16.100000000000001,\n",
       " 22.100000000000001,\n",
       " 19.399999999999999,\n",
       " 21.600000000000001,\n",
       " 23.800000000000001,\n",
       " 16.199999999999999,\n",
       " 17.800000000000001,\n",
       " 19.800000000000001,\n",
       " 23.100000000000001,\n",
       " 21.0,\n",
       " 23.800000000000001,\n",
       " 23.100000000000001,\n",
       " 20.399999999999999,\n",
       " 18.5,\n",
       " 25.0,\n",
       " 24.600000000000001,\n",
       " 23.0,\n",
       " 22.199999999999999,\n",
       " 19.300000000000001,\n",
       " 22.600000000000001,\n",
       " 19.800000000000001,\n",
       " 17.100000000000001,\n",
       " 19.399999999999999,\n",
       " 22.199999999999999,\n",
       " 20.699999999999999,\n",
       " 21.100000000000001,\n",
       " 19.5,\n",
       " 18.5,\n",
       " 20.600000000000001,\n",
       " 19.0,\n",
       " 18.699999999999999,\n",
       " 32.700000000000003,\n",
       " 16.5,\n",
       " 23.899999999999999,\n",
       " 31.199999999999999,\n",
       " 17.5,\n",
       " 17.199999999999999,\n",
       " 23.100000000000001,\n",
       " 24.5,\n",
       " 26.600000000000001,\n",
       " 22.899999999999999,\n",
       " 24.100000000000001,\n",
       " 18.600000000000001,\n",
       " 30.100000000000001,\n",
       " 18.199999999999999,\n",
       " 20.600000000000001,\n",
       " 17.800000000000001,\n",
       " 21.699999999999999,\n",
       " 22.699999999999999,\n",
       " 22.600000000000001,\n",
       " 25.0,\n",
       " 19.899999999999999,\n",
       " 20.800000000000001,\n",
       " 16.800000000000001,\n",
       " 21.899999999999999,\n",
       " 27.5,\n",
       " 21.899999999999999,\n",
       " 23.100000000000001,\n",
       " 50.0,\n",
       " 50.0,\n",
       " 50.0,\n",
       " 50.0,\n",
       " 50.0,\n",
       " 13.800000000000001,\n",
       " 13.800000000000001,\n",
       " 15.0,\n",
       " 13.9,\n",
       " 13.300000000000001,\n",
       " 13.1,\n",
       " 10.199999999999999,\n",
       " 10.4,\n",
       " 10.9,\n",
       " 11.300000000000001,\n",
       " 12.300000000000001,\n",
       " 8.8000000000000007,\n",
       " 7.2000000000000002,\n",
       " 10.5,\n",
       " 7.4000000000000004,\n",
       " 10.199999999999999,\n",
       " 11.5,\n",
       " 15.1,\n",
       " 23.199999999999999,\n",
       " 9.6999999999999993,\n",
       " 13.800000000000001,\n",
       " 12.699999999999999,\n",
       " 13.1,\n",
       " 12.5,\n",
       " 8.5,\n",
       " 5.0,\n",
       " 6.2999999999999998,\n",
       " 5.5999999999999996,\n",
       " 7.2000000000000002,\n",
       " 12.1,\n",
       " 8.3000000000000007,\n",
       " 8.5,\n",
       " 5.0,\n",
       " 11.9,\n",
       " 27.899999999999999,\n",
       " 17.199999999999999,\n",
       " 27.5,\n",
       " 15.0,\n",
       " 17.199999999999999,\n",
       " 17.899999999999999,\n",
       " 16.300000000000001,\n",
       " 7.0,\n",
       " 7.2000000000000002,\n",
       " 7.5,\n",
       " 10.4,\n",
       " 8.8000000000000007,\n",
       " 8.4000000000000004,\n",
       " 16.699999999999999,\n",
       " 14.199999999999999,\n",
       " 20.800000000000001,\n",
       " 13.4,\n",
       " 11.699999999999999,\n",
       " 8.3000000000000007,\n",
       " 10.199999999999999,\n",
       " 10.9,\n",
       " 11.0,\n",
       " 9.5,\n",
       " 14.5,\n",
       " 14.1,\n",
       " 16.100000000000001,\n",
       " 14.300000000000001,\n",
       " 11.699999999999999,\n",
       " 13.4,\n",
       " 9.5999999999999996,\n",
       " 8.6999999999999993,\n",
       " 8.4000000000000004,\n",
       " 12.800000000000001,\n",
       " 10.5,\n",
       " 17.100000000000001,\n",
       " 18.399999999999999,\n",
       " 15.4,\n",
       " 10.800000000000001,\n",
       " 11.800000000000001,\n",
       " 14.9,\n",
       " 12.6,\n",
       " 14.1,\n",
       " 13.0,\n",
       " 13.4,\n",
       " 15.199999999999999,\n",
       " 16.100000000000001,\n",
       " 17.800000000000001,\n",
       " 14.9,\n",
       " 14.1,\n",
       " 12.699999999999999,\n",
       " 13.5,\n",
       " 14.9,\n",
       " 20.0,\n",
       " 16.399999999999999,\n",
       " 17.699999999999999,\n",
       " 19.5,\n",
       " 20.199999999999999,\n",
       " 21.399999999999999,\n",
       " 19.899999999999999,\n",
       " 19.0,\n",
       " 19.100000000000001,\n",
       " 19.100000000000001,\n",
       " 20.100000000000001,\n",
       " 19.899999999999999,\n",
       " 19.600000000000001,\n",
       " 23.199999999999999,\n",
       " 29.800000000000001,\n",
       " 13.800000000000001,\n",
       " 13.300000000000001,\n",
       " 16.699999999999999,\n",
       " 12.0,\n",
       " 14.6,\n",
       " 21.399999999999999,\n",
       " 23.0,\n",
       " 23.699999999999999,\n",
       " 25.0,\n",
       " 21.800000000000001,\n",
       " 20.600000000000001,\n",
       " 21.199999999999999,\n",
       " 19.100000000000001,\n",
       " 20.600000000000001,\n",
       " 15.199999999999999,\n",
       " 7.0,\n",
       " 8.0999999999999996,\n",
       " 13.6,\n",
       " 20.100000000000001,\n",
       " 21.800000000000001,\n",
       " 24.5,\n",
       " 23.100000000000001,\n",
       " 19.699999999999999,\n",
       " 18.300000000000001,\n",
       " 21.199999999999999,\n",
       " 17.5,\n",
       " 16.800000000000001,\n",
       " 22.399999999999999,\n",
       " 20.600000000000001,\n",
       " 23.899999999999999,\n",
       " 22.0,\n",
       " 11.9]"
      ]
     },
     "execution_count": 26,
     "metadata": {},
     "output_type": "execute_result"
    }
   ],
   "source": [
    "list(y)"
   ]
  },
  {
   "cell_type": "markdown",
   "metadata": {},
   "source": [
    "loss = 1/n"
   ]
  },
  {
   "cell_type": "code",
   "execution_count": null,
   "metadata": {
    "collapsed": true
   },
   "outputs": [],
   "source": [
    "###loss"
   ]
  },
  {
   "cell_type": "code",
   "execution_count": 28,
   "metadata": {
    "collapsed": true
   },
   "outputs": [],
   "source": [
    "def loss(y,y_hat): \n",
    "    return sum((y_i - y_hat_i)**2 for y_i, y_hat_i in zip(list(y),list(y_hat))) / len(list(y))"
   ]
  },
  {
   "cell_type": "code",
   "execution_count": null,
   "metadata": {
    "collapsed": true
   },
   "outputs": [],
   "source": []
  },
  {
   "cell_type": "markdown",
   "metadata": {},
   "source": [
    "First-Method:Random generation: get best k and best b"
   ]
  },
  {
   "cell_type": "code",
   "execution_count": 37,
   "metadata": {},
   "outputs": [
    {
     "name": "stdout",
     "output_type": "stream",
     "text": [
      "When time is : 0, get best_k: 41.998992376145395 best_b: -10.97540175413161, and the loss is: 53679.43911415271\n",
      "When time is : 4, get best_k: 21.835068905369155 best_b: -58.564503958338875, and the loss is: 3273.8456237479786\n",
      "When time is : 7, get best_k: 10.405602592283358 best_b: -84.97435248640474, and the loss is: 1817.8372551008063\n",
      "When time is : 36, get best_k: 5.329997746359965 best_b: -4.651621905368231, and the loss is: 90.46068716138156\n",
      "When time is : 582, get best_k: 10.006530325357616 best_b: -35.50412275283847, and the loss is: 67.53048419784527\n",
      "When time is : 976, get best_k: 5.6437041690022625 best_b: -13.04620679283623, and the loss is: 49.505651597808345\n",
      "When time is : 1603, get best_k: 9.329364988676076 best_b: -36.528462309314726, and the loss is: 43.81057103142725\n"
     ]
    }
   ],
   "source": [
    "trying_times = 2000\n",
    "\n",
    "min_loss = float('inf')\n",
    "best_k, best_b = None, None\n",
    "\n",
    "for i in range(trying_times):\n",
    "    k = random.random()*200 - 100\n",
    "    b = random.random()*200 - 100\n",
    "    price_by_random_k_and_b = [price(r, k ,b) for r in x_rm]\n",
    "    \n",
    "    current_loss = loss(y, price_by_random_k_and_b)\n",
    "    \n",
    "    if current_loss < min_loss:\n",
    "        min_loss = current_loss\n",
    "        best_k, best_b = k, b\n",
    "        print('When time is : {}, get best_k: {} best_b: {}, and the loss is: {}'.format(i, best_k, best_b, min_loss))"
   ]
  },
  {
   "cell_type": "code",
   "execution_count": 31,
   "metadata": {},
   "outputs": [
    {
     "data": {
      "text/plain": [
       "3.1622776601683795"
      ]
     },
     "execution_count": 31,
     "metadata": {},
     "output_type": "execute_result"
    }
   ],
   "source": [
    "10 ** 0.5"
   ]
  },
  {
   "cell_type": "code",
   "execution_count": 64,
   "metadata": {},
   "outputs": [
    {
     "ename": "NameError",
     "evalue": "name 'draw_x_rm_and_price' is not defined",
     "output_type": "error",
     "traceback": [
      "\u001b[0;31m---------------------------------------------------------------------------\u001b[0m",
      "\u001b[0;31mNameError\u001b[0m                                 Traceback (most recent call last)",
      "\u001b[0;32m<ipython-input-64-64f782e97775>\u001b[0m in \u001b[0;36m<module>\u001b[0;34m()\u001b[0m\n\u001b[1;32m      4\u001b[0m \u001b[0mprice_by_random_k_and_b\u001b[0m \u001b[0;34m=\u001b[0m \u001b[0;34m[\u001b[0m\u001b[0mprice\u001b[0m\u001b[0;34m(\u001b[0m\u001b[0mr\u001b[0m\u001b[0;34m,\u001b[0m \u001b[0mk\u001b[0m\u001b[0;34m,\u001b[0m \u001b[0mb\u001b[0m\u001b[0;34m)\u001b[0m \u001b[0;32mfor\u001b[0m \u001b[0mr\u001b[0m \u001b[0;32min\u001b[0m \u001b[0mx_rm\u001b[0m\u001b[0;34m]\u001b[0m\u001b[0;34m\u001b[0m\u001b[0m\n\u001b[1;32m      5\u001b[0m \u001b[0;34m\u001b[0m\u001b[0m\n\u001b[0;32m----> 6\u001b[0;31m \u001b[0mdraw_x_rm_and_price\u001b[0m\u001b[0;34m(\u001b[0m\u001b[0;34m)\u001b[0m\u001b[0;34m\u001b[0m\u001b[0m\n\u001b[0m\u001b[1;32m      7\u001b[0m \u001b[0mplt\u001b[0m\u001b[0;34m.\u001b[0m\u001b[0mscatter\u001b[0m\u001b[0;34m(\u001b[0m\u001b[0mx_rm\u001b[0m\u001b[0;34m,\u001b[0m \u001b[0mprice_by_random_k_and_b\u001b[0m\u001b[0;34m)\u001b[0m\u001b[0;34m\u001b[0m\u001b[0m\n",
      "\u001b[0;31mNameError\u001b[0m: name 'draw_x_rm_and_price' is not defined"
     ]
    }
   ],
   "source": [
    "x_rm = x[:, 5]\n",
    "k = 15\n",
    "b = -68\n",
    "price_by_random_k_and_b = [price(r, k, b) for r in x_rm]\n",
    "\n",
    "draw_x_rm_and_price()\n",
    "plt.scatter(x_rm, price_by_random_k_and_b)"
   ]
  },
  {
   "cell_type": "markdown",
   "metadata": {},
   "source": [
    "2nd-Method: Direction Adjusting"
   ]
  },
  {
   "cell_type": "code",
   "execution_count": 40,
   "metadata": {},
   "outputs": [],
   "source": [
    "trying_times = 2000\n",
    "\n",
    "min_loss = float('inf')\n",
    "\n",
    "best_k = random.random() * 200 - 100\n",
    "best_b = random.random() * 200 - 100\n",
    "\n",
    "direction = [\n",
    "    (+1,-1),\n",
    "    (+1,-1),\n",
    "    (-1,-1),\n",
    "    (-1,-1),\n",
    "]\n",
    "\n",
    "next_direction = random.choice(direction)\n",
    "\n",
    "scalar = 0.1\n",
    "\n",
    "update_time = 0\n",
    "\n",
    "for i in range(trying_times):\n",
    "    k_direction, b_direction = next_direction\n",
    "    current_k, current_b = best_k + k_direction*scalar, best_b + b_direction*scalar\n",
    "    price_by_k_and_b = [price(r, current_k, current_b) for r in x_rm]\n",
    "    \n",
    "    current_loss = loss(y, price_by_k_and_b)\n",
    "    \n",
    "    if current_loss < min_loss: #performance became better\n",
    "        min_loss = current_loss\n",
    "        best_k, best_b = current_k, current_b\n",
    "        \n",
    "        next_direction = next_direction\n",
    "        update_time += 1\n",
    "        \n",
    "        if update_time % 10 == 0:\n",
    "            print('When time is : {}, get best_k: {} best_b: {}, and the loss is: {}'.format(i, \n",
    "                  best_k, best_b, min_loss))\n",
    "        else:\n",
    "            next_direction = random.choice(direction)\n",
    "                                                                      \n",
    "\n",
    "\n"
   ]
  },
  {
   "cell_type": "code",
   "execution_count": 35,
   "metadata": {},
   "outputs": [
    {
     "data": {
      "text/plain": [
       "inf"
      ]
     },
     "execution_count": 35,
     "metadata": {},
     "output_type": "execute_result"
    }
   ],
   "source": [
    "float('inf')"
   ]
  },
  {
   "cell_type": "markdown",
   "metadata": {},
   "source": [
    "监督学习 导数"
   ]
  },
  {
   "cell_type": "code",
   "execution_count": 55,
   "metadata": {},
   "outputs": [],
   "source": [
    "def partial_k(x, y, y_hat):\n",
    "    n = len(y)\n",
    "    \n",
    "    gradient = 0\n",
    "    \n",
    "    for x_i, y_i, y_hat_i in zip(list(x), list(y), list(y_hat)):\n",
    "        gradient += (y_i - y_hat_i) * x_i\n",
    "        \n",
    "    return -2 / n * gradient\n",
    "\n",
    "def partial_b(x, y, y_hat):\n",
    "    n = len(y)\n",
    "    \n",
    "    gradient = 0\n",
    "    \n",
    "    for y_i, y_hat_i in zip(list(y), list(y_hat)):\n",
    "        gradient += (y_i - y_hat_i)\n",
    "    \n",
    "    return -2 / n * gradient"
   ]
  },
  {
   "cell_type": "code",
   "execution_count": 52,
   "metadata": {},
   "outputs": [],
   "source": [
    "from icecream import ic"
   ]
  },
  {
   "cell_type": "code",
   "execution_count": 57,
   "metadata": {},
   "outputs": [
    {
     "name": "stdout",
     "output_type": "stream",
     "text": [
      "When time is : 0, get best_k: 94.1923672111948 best_b: -17.64926842321571, and the loss is: 1536.0159055415143\n",
      "When time is : 50, get best_k: 94.1923672111948 best_b: -17.64926842321571, and the loss is: 713.3358146454789\n",
      "When time is : 100, get best_k: 94.1923672111948 best_b: -17.64926842321571, and the loss is: 352.0554817795877\n",
      "When time is : 150, get best_k: 94.1923672111948 best_b: -17.64926842321571, and the loss is: 193.39712684463325\n",
      "When time is : 200, get best_k: 94.1923672111948 best_b: -17.64926842321571, and the loss is: 123.71945610090827\n",
      "When time is : 250, get best_k: 94.1923672111948 best_b: -17.64926842321571, and the loss is: 93.11732066773045\n",
      "When time is : 300, get best_k: 94.1923672111948 best_b: -17.64926842321571, and the loss is: 79.67506116761709\n",
      "When time is : 350, get best_k: 94.1923672111948 best_b: -17.64926842321571, and the loss is: 73.76849779692297\n",
      "When time is : 400, get best_k: 94.1923672111948 best_b: -17.64926842321571, and the loss is: 71.17120801001745\n",
      "When time is : 450, get best_k: 94.1923672111948 best_b: -17.64926842321571, and the loss is: 70.0271741617893\n",
      "When time is : 500, get best_k: 94.1923672111948 best_b: -17.64926842321571, and the loss is: 69.52133304872693\n",
      "When time is : 550, get best_k: 94.1923672111948 best_b: -17.64926842321571, and the loss is: 69.29575271491571\n",
      "When time is : 600, get best_k: 94.1923672111948 best_b: -17.64926842321571, and the loss is: 69.19324868116026\n",
      "When time is : 650, get best_k: 94.1923672111948 best_b: -17.64926842321571, and the loss is: 69.14479397143396\n",
      "When time is : 700, get best_k: 94.1923672111948 best_b: -17.64926842321571, and the loss is: 69.12007564732676\n",
      "When time is : 750, get best_k: 94.1923672111948 best_b: -17.64926842321571, and the loss is: 69.10578189517322\n",
      "When time is : 800, get best_k: 94.1923672111948 best_b: -17.64926842321571, and the loss is: 69.09606688161844\n",
      "When time is : 850, get best_k: 94.1923672111948 best_b: -17.64926842321571, and the loss is: 69.08836343062197\n",
      "When time is : 900, get best_k: 94.1923672111948 best_b: -17.64926842321571, and the loss is: 69.0815441762335\n",
      "When time is : 950, get best_k: 94.1923672111948 best_b: -17.64926842321571, and the loss is: 69.0751140397161\n",
      "When time is : 1000, get best_k: 94.1923672111948 best_b: -17.64926842321571, and the loss is: 69.06885560889673\n",
      "When time is : 1050, get best_k: 94.1923672111948 best_b: -17.64926842321571, and the loss is: 69.06267340783403\n",
      "When time is : 1100, get best_k: 94.1923672111948 best_b: -17.64926842321571, and the loss is: 69.05652550842782\n",
      "When time is : 1150, get best_k: 94.1923672111948 best_b: -17.64926842321571, and the loss is: 69.05039349791052\n",
      "When time is : 1200, get best_k: 94.1923672111948 best_b: -17.64926842321571, and the loss is: 69.0442692901862\n",
      "When time is : 1250, get best_k: 94.1923672111948 best_b: -17.64926842321571, and the loss is: 69.03814933407749\n",
      "When time is : 1300, get best_k: 94.1923672111948 best_b: -17.64926842321571, and the loss is: 69.03203206989969\n",
      "When time is : 1350, get best_k: 94.1923672111948 best_b: -17.64926842321571, and the loss is: 69.02591681252484\n",
      "When time is : 1400, get best_k: 94.1923672111948 best_b: -17.64926842321571, and the loss is: 69.01980326088335\n",
      "When time is : 1450, get best_k: 94.1923672111948 best_b: -17.64926842321571, and the loss is: 69.01369128256324\n",
      "When time is : 1500, get best_k: 94.1923672111948 best_b: -17.64926842321571, and the loss is: 69.00758081921828\n",
      "When time is : 1550, get best_k: 94.1923672111948 best_b: -17.64926842321571, and the loss is: 69.00147184502761\n",
      "When time is : 1600, get best_k: 94.1923672111948 best_b: -17.64926842321571, and the loss is: 68.9953643484542\n",
      "When time is : 1650, get best_k: 94.1923672111948 best_b: -17.64926842321571, and the loss is: 68.98925832423345\n",
      "When time is : 1700, get best_k: 94.1923672111948 best_b: -17.64926842321571, and the loss is: 68.98315376985546\n",
      "When time is : 1750, get best_k: 94.1923672111948 best_b: -17.64926842321571, and the loss is: 68.97705068401993\n",
      "When time is : 1800, get best_k: 94.1923672111948 best_b: -17.64926842321571, and the loss is: 68.97094906595825\n",
      "When time is : 1850, get best_k: 94.1923672111948 best_b: -17.64926842321571, and the loss is: 68.96484891513468\n",
      "When time is : 1900, get best_k: 94.1923672111948 best_b: -17.64926842321571, and the loss is: 68.95875023111654\n",
      "When time is : 1950, get best_k: 94.1923672111948 best_b: -17.64926842321571, and the loss is: 68.9526530135156\n"
     ]
    }
   ],
   "source": [
    "trying_times = 2000\n",
    "\n",
    "x, y = data['data'], data['target']\n",
    "min_loss = float('inf')\n",
    "\n",
    "current_k = random.random() * 200 - 100\n",
    "current_b = random.random() * 200 - 100\n",
    "\n",
    "learning_rate = 1e-04\n",
    "\n",
    "update_time = 0\n",
    "\n",
    "for i in range(trying_times):\n",
    "    \n",
    "     price_by_k_and_b = [price(r, current_k, current_b) for r in x_rm]\n",
    "        \n",
    "     current_loss = loss(y, price_by_k_and_b)\n",
    "    \n",
    "     if current_loss < min_loss:\n",
    "            min_loss = current_loss\n",
    "            \n",
    "            if i % 50 == 0:\n",
    "                print('When time is : {}, get best_k: {} best_b: {}, and the loss is: {}'.format(i, best_k, best_b, min_loss))\n",
    "     k_gradient = partial_k(x_rm, y, price_by_k_and_b)\n",
    "    \n",
    "     b_gradient = partial_b(x_rm, y, price_by_k_and_b)\n",
    "    \n",
    "     current_k = current_k + (-1 * k_gradient) * learning_rate\n",
    "    \n",
    "     current_b = current_b + (-1 * b_gradient) * learning_rate\n"
   ]
  },
  {
   "cell_type": "code",
   "execution_count": 58,
   "metadata": {
    "collapsed": true
   },
   "outputs": [],
   "source": [
    "y = 10"
   ]
  },
  {
   "cell_type": "code",
   "execution_count": 66,
   "metadata": {},
   "outputs": [
    {
     "data": {
      "text/plain": [
       "<matplotlib.collections.PathCollection at 0x10fdc65c0>"
      ]
     },
     "execution_count": 66,
     "metadata": {},
     "output_type": "execute_result"
    },
    {
     "data": {
      "image/png": "[encoded data removed]",
      "text/plain": [
       "<matplotlib.figure.Figure at 0x10fcf6240>"
      ]
     },
     "metadata": {},
     "output_type": "display_data"
    }
   ],
   "source": [
    "x_rm = x[:, 5]\n",
    "k = 94.1923672111948\n",
    "b = -17.64926842321571\n",
    "price_by_random_k_and_b = [price(r, k, b) for r in x_rm]\n",
    "\n",
    "#draw_rm_and_price()  ### I don't know why\n",
    "plt.scatter(x_rm, price_by_random_k_and_b)"
   ]
  },
  {
   "cell_type": "code",
   "execution_count": null,
   "metadata": {
    "collapsed": true
   },
   "outputs": [],
   "source": []
  },
  {
   "cell_type": "code",
   "execution_count": null,
   "metadata": {
    "collapsed": true
   },
   "outputs": [],
   "source": []
  },
  {
   "cell_type": "code",
   "execution_count": null,
   "metadata": {
    "collapsed": true
   },
   "outputs": [],
   "source": []
  },
  {
   "cell_type": "code",
   "execution_count": null,
   "metadata": {
    "collapsed": true
   },
   "outputs": [],
   "source": []
  },
  {
   "cell_type": "code",
   "execution_count": null,
   "metadata": {
    "collapsed": true
   },
   "outputs": [],
   "source": []
  },
  {
   "cell_type": "code",
   "execution_count": null,
   "metadata": {
    "collapsed": true
   },
   "outputs": [],
   "source": []
  },
  {
   "cell_type": "code",
   "execution_count": null,
   "metadata": {
    "collapsed": true
   },
   "outputs": [],
   "source": []
  },
  {
   "cell_type": "code",
   "execution_count": null,
   "metadata": {
    "collapsed": true
   },
   "outputs": [],
   "source": []
  }
 ],
 "metadata": {
  "kernelspec": {
   "display_name": "Python 3",
   "language": "python",
   "name": "python3"
  },
  "language_info": {
   "codemirror_mode": {
    "name": "ipython",
    "version": 3
   },
   "file_extension": ".py",
   "mimetype": "text/x-python",
   "name": "python",
   "nbconvert_exporter": "python",
   "pygments_lexer": "ipython3",
   "version": "3.6.2"
  }
 },
 "nbformat": 4,
 "nbformat_minor": 2
}
