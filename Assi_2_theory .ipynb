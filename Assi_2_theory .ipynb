{
 "cells": [
  {
   "cell_type": "code",
   "execution_count": 2,
   "metadata": {},
   "outputs": [],
   "source": [
    "#1. Why do we need machine learning methods instead of creating a complicated formula?\n",
    "### 1st, it's more efficient than the complicated formula.\n",
    "### 2nd, it's easier than the complicated formula. \n",
    "### \n",
    "#2. What's the disadvantages of the 1st Random Choosen methods in our course?\n",
    "### It's way too slow and will cost much time\n",
    "\n",
    "#3. Is the 2nd method supervised direction better than 1st one? What's the disadvantages of the 2nd supversied directin method?¶\n",
    "### Yes, the 2nd method supervised direcction is faster than the 1st one. But the 2nd method will get stuck in the local\n",
    "### optimal instead of the global optimal.\n",
    "\n",
    "#4. Why do we use Derivative / Gredient to fit a target function?\n",
    "### Cause we want to give a efficient direction for the target function to control the change of each step.\n",
    "\n",
    "#5. In the words 'Gradient Descent', what's the Gredient and what's the Descent?\n",
    "### Gredient is the derivitate of the function for each directoin. For example (dz/dx,dz/dy) is a gredient.\n",
    "### Descent means each time, the function will change in the opposite direction of the gredient\n",
    "### \n",
    "#6. What's the advantages of the 3rd gradient descent method compared to the previous methods?\n",
    "### One can easier and faster to find the optimal based on the 3rd gradient descent method\n",
    "\n",
    "#7. Using the simple words to describe: What's the machine leanring.\n",
    "### Machine learning is an application of artificial intelligence (AI) that provides systems the ability to automatically learn \n",
    "### and improve from experience without being explicitly programmed.\n",
    "### \n",
    "\n",
    "\n",
    "\n",
    "\n"
   ]
  }
 ],
 "metadata": {
  "kernelspec": {
   "display_name": "Python 3",
   "language": "python",
   "name": "python3"
  },
  "language_info": {
   "codemirror_mode": {
    "name": "ipython",
    "version": 3
   },
   "file_extension": ".py",
   "mimetype": "text/x-python",
   "name": "python",
   "nbconvert_exporter": "python",
   "pygments_lexer": "ipython3",
   "version": "3.6.2"
  }
 },
 "nbformat": 4,
 "nbformat_minor": 2
}
